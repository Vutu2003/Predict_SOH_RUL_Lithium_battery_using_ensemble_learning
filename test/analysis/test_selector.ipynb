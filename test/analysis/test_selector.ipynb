{
 "cells": [
  {
   "cell_type": "code",
   "execution_count": 1,
   "metadata": {},
   "outputs": [],
   "source": [
    "import sys\n",
    "\n",
    "sys.path.append('../../src/analysis')\n",
    "sys.path.append('../../src/data_handling')"
   ]
  },
  {
   "cell_type": "code",
   "execution_count": 2,
   "metadata": {},
   "outputs": [
    {
     "name": "stdout",
     "output_type": "stream",
     "text": [
      "\n",
      "Initializing Data Aggregator for: ['B0005', 'B0006', 'B0007', 'B0018']\n",
      "\n",
      "--- Starting Data Aggregation for Batteries: ['B0005', 'B0018', 'B0006', 'B0007'] ---\n"
     ]
    },
    {
     "name": "stderr",
     "output_type": "stream",
     "text": [
      "Aggregating Batteries:   0%|          | 0/4 [00:00<?, ?it/s]"
     ]
    },
    {
     "name": "stdout",
     "output_type": "stream",
     "text": [
      "\n",
      "--- Processing: B0005 ---\n",
      "--- Loading data for battery: B0005 ---\n",
      "  Successfully loaded: capacity_B0005.csv\n",
      "  Successfully loaded: charge_B0005.csv\n",
      "  Successfully loaded: discharge_B0005.csv\n",
      "--- Data loading process completed for B0005 ---\n",
      "  Ensuring numeric types for B0005...\n",
      "--- Starting Feature Engineering process for B0005 ---\n",
      "  Calculating SOH/RUL for B0005...\n",
      "  Engineering discharge features for B0005...\n"
     ]
    },
    {
     "name": "stderr",
     "output_type": "stream",
     "text": []
    },
    {
     "name": "stdout",
     "output_type": "stream",
     "text": [
      "  Engineering charge features for B0005...\n"
     ]
    },
    {
     "name": "stderr",
     "output_type": "stream",
     "text": [
      "e:\\Do an tot nghiep\\ĐỒ ÁN TỐT NGHIỆP demo1\\source\\battery_soh_rul_estimation\\test\\analysis\\../../src/data_handling\\feature_engineer.py:229: FutureWarning: DataFrame.fillna with 'method' is deprecated and will raise in a future version. Use obj.ffill() or obj.bfill() instead.\n",
      "  df_filled = df.fillna(method='bfill').fillna(method='ffill')\n",
      "Aggregating Batteries:  25%|██▌       | 1/4 [00:01<00:03,  1.27s/it]"
     ]
    },
    {
     "name": "stdout",
     "output_type": "stream",
     "text": [
      "  Merging features for B0005...\n",
      "  Handling NaNs for B0005...\n",
      "--- Feature Engineering process finished for B0005 ---\n",
      "  Successfully processed B0005. Shape: (168, 13)\n",
      "\n",
      "--- Processing: B0018 ---\n",
      "--- Loading data for battery: B0018 ---\n",
      "  Successfully loaded: capacity_B0018.csv\n",
      "  Successfully loaded: charge_B0018.csv\n",
      "  Successfully loaded: discharge_B0018.csv\n",
      "--- Data loading process completed for B0018 ---\n",
      "  Ensuring numeric types for B0018...\n",
      "--- Starting Feature Engineering process for B0018 ---\n",
      "  Calculating SOH/RUL for B0018...\n",
      "    Note: Battery B0018 did not reach EoL threshold (1.30 Ah). Using 133 for RUL.\n",
      "  Engineering discharge features for B0018...\n"
     ]
    },
    {
     "name": "stderr",
     "output_type": "stream",
     "text": []
    },
    {
     "name": "stdout",
     "output_type": "stream",
     "text": [
      "  Engineering charge features for B0018...\n"
     ]
    },
    {
     "name": "stderr",
     "output_type": "stream",
     "text": [
      "e:\\Do an tot nghiep\\ĐỒ ÁN TỐT NGHIỆP demo1\\source\\battery_soh_rul_estimation\\test\\analysis\\../../src/data_handling\\feature_engineer.py:229: FutureWarning: DataFrame.fillna with 'method' is deprecated and will raise in a future version. Use obj.ffill() or obj.bfill() instead.\n",
      "  df_filled = df.fillna(method='bfill').fillna(method='ffill')\n",
      "Aggregating Batteries:  50%|█████     | 2/4 [00:02<00:02,  1.07s/it]"
     ]
    },
    {
     "name": "stdout",
     "output_type": "stream",
     "text": [
      "  Merging features for B0018...\n",
      "  Handling NaNs for B0018...\n",
      "--- Feature Engineering process finished for B0018 ---\n",
      "  Successfully processed B0018. Shape: (132, 13)\n",
      "\n",
      "--- Processing: B0006 ---\n",
      "--- Loading data for battery: B0006 ---\n",
      "  Successfully loaded: capacity_B0006.csv\n",
      "  Successfully loaded: charge_B0006.csv\n",
      "  Successfully loaded: discharge_B0006.csv\n",
      "--- Data loading process completed for B0006 ---\n",
      "  Ensuring numeric types for B0006...\n",
      "--- Starting Feature Engineering process for B0006 ---\n",
      "  Calculating SOH/RUL for B0006...\n",
      "  Engineering discharge features for B0006...\n"
     ]
    },
    {
     "name": "stderr",
     "output_type": "stream",
     "text": []
    },
    {
     "name": "stdout",
     "output_type": "stream",
     "text": [
      "  Engineering charge features for B0006...\n"
     ]
    },
    {
     "name": "stderr",
     "output_type": "stream",
     "text": [
      "e:\\Do an tot nghiep\\ĐỒ ÁN TỐT NGHIỆP demo1\\source\\battery_soh_rul_estimation\\test\\analysis\\../../src/data_handling\\feature_engineer.py:229: FutureWarning: DataFrame.fillna with 'method' is deprecated and will raise in a future version. Use obj.ffill() or obj.bfill() instead.\n",
      "  df_filled = df.fillna(method='bfill').fillna(method='ffill')\n",
      "Aggregating Batteries:  75%|███████▌  | 3/4 [00:03<00:01,  1.11s/it]"
     ]
    },
    {
     "name": "stdout",
     "output_type": "stream",
     "text": [
      "  Merging features for B0006...\n",
      "  Handling NaNs for B0006...\n",
      "--- Feature Engineering process finished for B0006 ---\n",
      "  Successfully processed B0006. Shape: (168, 13)\n",
      "\n",
      "--- Processing: B0007 ---\n",
      "--- Loading data for battery: B0007 ---\n",
      "  Successfully loaded: capacity_B0007.csv\n",
      "  Successfully loaded: charge_B0007.csv\n",
      "  Successfully loaded: discharge_B0007.csv\n",
      "--- Data loading process completed for B0007 ---\n",
      "  Ensuring numeric types for B0007...\n",
      "--- Starting Feature Engineering process for B0007 ---\n",
      "  Calculating SOH/RUL for B0007...\n",
      "    Note: Battery B0007 did not reach EoL threshold (1.32 Ah). Using 169 for RUL.\n",
      "  Engineering discharge features for B0007...\n"
     ]
    },
    {
     "name": "stderr",
     "output_type": "stream",
     "text": []
    },
    {
     "name": "stdout",
     "output_type": "stream",
     "text": [
      "  Engineering charge features for B0007...\n"
     ]
    },
    {
     "name": "stderr",
     "output_type": "stream",
     "text": [
      "e:\\Do an tot nghiep\\ĐỒ ÁN TỐT NGHIỆP demo1\\source\\battery_soh_rul_estimation\\test\\analysis\\../../src/data_handling\\feature_engineer.py:229: FutureWarning: DataFrame.fillna with 'method' is deprecated and will raise in a future version. Use obj.ffill() or obj.bfill() instead.\n",
      "  df_filled = df.fillna(method='bfill').fillna(method='ffill')\n",
      "Aggregating Batteries: 100%|██████████| 4/4 [00:04<00:00,  1.14s/it]"
     ]
    },
    {
     "name": "stdout",
     "output_type": "stream",
     "text": [
      "  Merging features for B0007...\n",
      "  Handling NaNs for B0007...\n",
      "--- Feature Engineering process finished for B0007 ---\n",
      "  Successfully processed B0007. Shape: (168, 13)\n",
      "\n",
      "--- Concatenating data from all processed batteries ---\n",
      "Combined DataFrame shape: (636, 13)\n",
      "Unique batteries in combined data: ['B0005' 'B0018' 'B0006' 'B0007']\n",
      "\n",
      "--- Performing final NaN check and fill on combined data ---\n",
      "No NaNs found in the combined data after individual processing.\n",
      "--- Data Aggregation Finished ---\n",
      "\n",
      "--- Final Combined Actual Data Info ---\n",
      "<class 'pandas.core.frame.DataFrame'>\n",
      "RangeIndex: 636 entries, 0 to 635\n",
      "Data columns (total 13 columns):\n",
      " #   Column              Non-Null Count  Dtype  \n",
      "---  ------              --------------  -----  \n",
      " 0   cycle               636 non-null    int64  \n",
      " 1   capacity            636 non-null    float64\n",
      " 2   SOH                 636 non-null    float64\n",
      " 3   RUL                 636 non-null    int64  \n",
      " 4   Discharge_V_median  636 non-null    float64\n",
      " 5   Discharge_V_skew    636 non-null    float64\n",
      " 6   Discharge_T_delta   636 non-null    float64\n",
      " 7   Discharge_T_std     636 non-null    float64\n",
      " 8   Charge_T_std        636 non-null    float64\n",
      " 9   Time_CC_phase       636 non-null    float64\n",
      " 10  Time_CV_phase       636 non-null    float64\n",
      " 11  CV_I_end            636 non-null    float64\n",
      " 12  battery_id          636 non-null    object \n",
      "dtypes: float64(10), int64(2), object(1)\n",
      "memory usage: 64.7+ KB\n",
      "None\n",
      "\n",
      "--- Final Combined Actual Data Head ---\n",
      "   cycle  capacity         SOH  RUL  Discharge_V_median  Discharge_V_skew  \\\n",
      "0      1  1.856487  100.000000  161            3.529903         -0.511720   \n",
      "1      2  1.846327   99.452721  160            3.535737         -0.554321   \n",
      "2      3  1.835349   98.861386  159            3.538223         -0.442777   \n",
      "3      4  1.835263   98.856718  158            3.540233         -0.552103   \n",
      "4      5  1.834646   98.823482  157            3.540603         -0.628218   \n",
      "\n",
      "   Discharge_T_delta  Discharge_T_std  Charge_T_std  Time_CC_phase  \\\n",
      "0          14.656188         3.495804      1.011951        339.094   \n",
      "1          14.347450         3.435509      1.358494       2890.406   \n",
      "2          14.084531         3.388174      1.371851       2899.500   \n",
      "3          14.110061         3.395306      1.375809       2889.859   \n",
      "4          14.146692         3.404667      1.387132       2889.078   \n",
      "\n",
      "   Time_CV_phase  CV_I_end battery_id  \n",
      "0       6826.593 -0.002892      B0005  \n",
      "1       7130.891 -0.001833      B0005  \n",
      "2       7102.656  0.002277      B0005  \n",
      "3       7025.750 -0.000862      B0005  \n",
      "4       7124.516  0.000398      B0005  \n",
      "\n",
      "--- Final Combined Actual Data Tail ---\n",
      "     cycle  capacity        SOH  RUL  Discharge_V_median  Discharge_V_skew  \\\n",
      "631    164  1.406171  74.359204    5            3.463677         -0.947676   \n",
      "632    165  1.406336  74.367898    4            3.462596         -1.119027   \n",
      "633    166  1.400455  74.056928    3            3.461914         -0.908710   \n",
      "634    167  1.421787  75.184938    2            3.470509         -1.175888   \n",
      "635    168  1.432455  75.749109    1            3.476653         -0.903013   \n",
      "\n",
      "     Discharge_T_delta  Discharge_T_std  Charge_T_std  Time_CC_phase  \\\n",
      "631          17.250729         4.416391      1.649771       1693.797   \n",
      "632          17.454126         4.450194      1.647231       1690.156   \n",
      "633          17.209769         4.420026      1.639304       1680.219   \n",
      "634          16.443248         4.132235      1.643710       1678.281   \n",
      "635          15.835978         3.925972      1.639526       1668.859   \n",
      "\n",
      "     Time_CV_phase  CV_I_end battery_id  \n",
      "631       8338.547  0.001421      B0007  \n",
      "632       8063.594 -0.004461      B0007  \n",
      "633       8241.687 -0.005975      B0007  \n",
      "634       8497.875 -0.003742      B0007  \n",
      "635       7834.062  0.002428      B0007  \n",
      "\n",
      "Unique Battery IDs in final data: ['B0005' 'B0018' 'B0006' 'B0007']\n",
      "Total rows in final data: 636\n",
      "NaN check final data: 0 NaNs\n"
     ]
    },
    {
     "name": "stderr",
     "output_type": "stream",
     "text": [
      "\n"
     ]
    }
   ],
   "source": [
    "# --- Sử dụng DataAggregator với các ID pin thực tế ---\n",
    "from aggregator import DataAggregator\n",
    "\n",
    "if __name__ == '__main__':\n",
    "    # <<< !!! THAY ĐỔI ĐƯỜNG DẪN NÀY !!! >>>\n",
    "    ACTUAL_DATA_DIR = \"../../dataset/\" # Đường dẫn đến thư mục chứa B0005, B0006,...\n",
    "\n",
    "    # Danh sách các pin cần xử lý\n",
    "    actual_battery_ids = ['B0005', 'B0006', 'B0007', 'B0018']\n",
    "\n",
    "    # Cấu hình FE (tùy chọn, có thể để trống nếu dùng default)\n",
    "    fe_configuration = {\n",
    "        #'eol_threshold_percentage': 0.75, # Ví dụ: thay đổi ngưỡng EoL\n",
    "        # Thêm các config khác nếu hàm FE của bạn hỗ trợ\n",
    "    }\n",
    "\n",
    "    # 1. Khởi tạo Aggregator\n",
    "    print(f\"\\nInitializing Data Aggregator for: {actual_battery_ids}\")\n",
    "    aggregator_actual = DataAggregator(\n",
    "        battery_ids=actual_battery_ids,\n",
    "        data_dir=ACTUAL_DATA_DIR,\n",
    "        fe_config=fe_configuration\n",
    "    )\n",
    "\n",
    "    # 2. Chạy quá trình tổng hợp\n",
    "    # force_rerun=True sẽ chạy lại FE ngay cả khi đã chạy trước đó\n",
    "    aggregator_actual.aggregate(force_rerun=True)\n",
    "\n",
    "    # 3. Lấy và kiểm tra dữ liệu kết hợp\n",
    "    final_actual_combined_data = aggregator_actual.get_combined_data()\n",
    "\n",
    "    if final_actual_combined_data is not None:\n",
    "        print(\"\\n--- Final Combined Actual Data Info ---\")\n",
    "        print(final_actual_combined_data.info()) # Kiểm tra kiểu dữ liệu, non-null\n",
    "        print(\"\\n--- Final Combined Actual Data Head ---\")\n",
    "        print(final_actual_combined_data.head())\n",
    "        print(\"\\n--- Final Combined Actual Data Tail ---\")\n",
    "        print(final_actual_combined_data.tail())\n",
    "        print(f\"\\nUnique Battery IDs in final data: {final_actual_combined_data['battery_id'].unique()}\")\n",
    "        print(f\"Total rows in final data: {len(final_actual_combined_data)}\")\n",
    "        print(f\"NaN check final data: {final_actual_combined_data.isnull().sum().sum()} NaNs\") # Kiểm tra NaN lần cuối\n",
    "\n",
    "        # Từ đây, final_actual_combined_data đã sẵn sàng cho các lớp tiếp theo\n",
    "        # (FeatureAnalyzer, FeatureSelector, CrossValidator...)\n",
    "    else:\n",
    "        print(\"\\nData aggregation failed for the actual battery datasets.\")"
   ]
  },
  {
   "cell_type": "code",
   "execution_count": 3,
   "metadata": {},
   "outputs": [
    {
     "name": "stdout",
     "output_type": "stream",
     "text": [
      "\n",
      "--- Example Usage of Original FeatureSelector ---\n",
      "Using combined data from previous DataAggregator step.\n",
      "FeatureSelector initialized. Columns always excluded: ['SOH', 'cycle', 'battery_id', 'RUL', 'capacity']\n",
      "\n",
      "--- Selecting features using method: manual ---\n",
      "  Applying manual selection with list: ['Discharge_V_median', 'Discharge_T_delta', 'Discharge_T_std', 'Time_CC_phase', 'Time_CV_phase', 'Charge_T_std']\n",
      "--- Feature selection finished. Selected 6 features ---\n",
      "Selected Features: ['Discharge_V_median', 'Discharge_T_delta', 'Discharge_T_std', 'Time_CC_phase', 'Time_CV_phase', 'Charge_T_std']\n",
      "\n",
      "Final selected features (using 'manual' method): ['Discharge_V_median', 'Discharge_T_delta', 'Discharge_T_std', 'Time_CC_phase', 'Time_CV_phase', 'Charge_T_std']\n",
      "\n",
      "DataFrame with selected features, targets, and group:\n",
      "<class 'pandas.core.frame.DataFrame'>\n",
      "RangeIndex: 636 entries, 0 to 635\n",
      "Data columns (total 9 columns):\n",
      " #   Column              Non-Null Count  Dtype  \n",
      "---  ------              --------------  -----  \n",
      " 0   Discharge_V_median  636 non-null    float64\n",
      " 1   Discharge_T_delta   636 non-null    float64\n",
      " 2   Discharge_T_std     636 non-null    float64\n",
      " 3   Time_CC_phase       636 non-null    float64\n",
      " 4   Time_CV_phase       636 non-null    float64\n",
      " 5   Charge_T_std        636 non-null    float64\n",
      " 6   SOH                 636 non-null    float64\n",
      " 7   RUL                 636 non-null    int64  \n",
      " 8   battery_id          636 non-null    object \n",
      "dtypes: float64(7), int64(1), object(1)\n",
      "memory usage: 44.8+ KB\n",
      "None\n",
      "\n",
      "DataFrame with ONLY selected features (for X):\n",
      "<class 'pandas.core.frame.DataFrame'>\n",
      "RangeIndex: 636 entries, 0 to 635\n",
      "Data columns (total 6 columns):\n",
      " #   Column              Non-Null Count  Dtype  \n",
      "---  ------              --------------  -----  \n",
      " 0   Discharge_V_median  636 non-null    float64\n",
      " 1   Discharge_T_delta   636 non-null    float64\n",
      " 2   Discharge_T_std     636 non-null    float64\n",
      " 3   Time_CC_phase       636 non-null    float64\n",
      " 4   Time_CV_phase       636 non-null    float64\n",
      " 5   Charge_T_std        636 non-null    float64\n",
      "dtypes: float64(6)\n",
      "memory usage: 29.9 KB\n",
      "None\n"
     ]
    }
   ],
   "source": [
    "from selector import FeatureSelector\n",
    "# --- Ví dụ Sử dụng Lớp FeatureSelector (Phiên bản gốc - Hỗ trợ nhiều method) ---\n",
    "\n",
    "if __name__ == '__main__':\n",
    "    # --- Giả sử bạn đã có final_actual_combined_data từ DataAggregator ---\n",
    "    # --- Hoặc dùng dữ liệu giả lập ---\n",
    "    print(\"\\n--- Example Usage of Original FeatureSelector ---\")\n",
    "    try:\n",
    "        if 'final_actual_combined_data' not in locals() or final_actual_combined_data is None:\n",
    "            print(\"Combined data not found. Creating dummy data for FeatureSelector example...\")\n",
    "            # (Phần tạo dữ liệu giả giữ nguyên)\n",
    "            dummy_features_all = ['Discharge_V_median', 'Discharge_T_delta', 'Discharge_T_std',\n",
    "                                  'Time_CC_phase', 'Time_CV_phase', 'Charge_T_std', 'Discharge_V_skew',\n",
    "                                  'SOH', 'RUL', 'cycle', 'capacity', 'battery_id']\n",
    "            dummy_data = pd.DataFrame(np.random.rand(50, len(dummy_features_all)), columns=dummy_features_all)\n",
    "            dummy_data['battery_id'] = np.random.choice(['P_X', 'P_Y'], size=50)\n",
    "            input_df_for_selector = dummy_data\n",
    "        else:\n",
    "            print(\"Using combined data from previous DataAggregator step.\")\n",
    "            input_df_for_selector = final_actual_combined_data\n",
    "\n",
    "        # --- Định nghĩa danh sách feature mong muốn cho phương pháp 'manual' ---\n",
    "        desired_features = [\n",
    "            'Discharge_V_median', 'Discharge_T_delta', 'Discharge_T_std',\n",
    "            'Time_CC_phase', 'Time_CV_phase', 'Charge_T_std',\n",
    "        ]\n",
    "\n",
    "        # 1. Khởi tạo Selector (KHÔNG truyền danh sách feature ở đây)\n",
    "        # <<< SỬA LỖI Ở ĐÂY >>>\n",
    "        selector = FeatureSelector(\n",
    "            combined_data=input_df_for_selector, # Vị trí 1\n",
    "            target_cols=['SOH', 'RUL'],          # Vị trí 2\n",
    "            group_col='battery_id',              # Vị trí 3 hoặc Keyword\n",
    "            other_cols_to_exclude=['cycle', 'capacity'] # Keyword\n",
    "        )\n",
    "\n",
    "        # 2. Gọi phương thức select() với method='manual' và config\n",
    "        # <<< SỬA LỖI Ở ĐÂY >>>\n",
    "        selector.select(method='manual', config={'feature_list': desired_features})\n",
    "\n",
    "        # 3. Lấy danh sách feature đã chọn\n",
    "        final_feature_list = selector.get_selected_features()\n",
    "\n",
    "        if final_feature_list:\n",
    "            print(f\"\\nFinal selected features (using 'manual' method): {final_feature_list}\")\n",
    "\n",
    "            # 4. Lấy DataFrame chỉ chứa các feature đã chọn + target + group\n",
    "            df_selected_all = selector.get_data_with_selected_features(include_targets=True, include_group=True)\n",
    "            if df_selected_all is not None:\n",
    "                print(\"\\nDataFrame with selected features, targets, and group:\")\n",
    "                print(df_selected_all.info())\n",
    "\n",
    "            # 5. Lấy DataFrame chỉ chứa features (chuẩn bị cho X trong ML)\n",
    "            df_X_only = selector.get_data_with_selected_features(include_targets=False, include_group=False)\n",
    "            if df_X_only is not None:\n",
    "                print(\"\\nDataFrame with ONLY selected features (for X):\")\n",
    "                print(df_X_only.info())\n",
    "        else:\n",
    "            print(\"\\nManual feature selection process resulted in an empty list or failed.\")\n",
    "\n",
    "        # --- Bạn vẫn có thể gọi .select() với các phương pháp khác nếu muốn ---\n",
    "        # Ví dụ: Chọn theo ngưỡng tương quan\n",
    "        # print(\"\\n--- Selecting by correlation threshold ---\")\n",
    "        # analyzer_for_selector = FeatureAnalyzer(input_df_for_selector)\n",
    "        # analyzer_for_selector.calculate_correlation()\n",
    "        # selector.select(\n",
    "        #     method='correlation_threshold',\n",
    "        #     config={'threshold': 0.7, 'target_col': 'SOH'},\n",
    "        #     feature_analyzer=analyzer_for_selector\n",
    "        # )\n",
    "        # selected_corr = selector.get_selected_features()\n",
    "        # print(f\"\\nFeatures selected by correlation >= 0.7 with SOH: {selected_corr}\")\n",
    "\n",
    "\n",
    "    except Exception as e:\n",
    "        print(f\"\\nAn error occurred during FeatureSelector example: {e}\")\n",
    "        # raise e"
   ]
  }
 ],
 "metadata": {
  "kernelspec": {
   "display_name": "base",
   "language": "python",
   "name": "python3"
  },
  "language_info": {
   "codemirror_mode": {
    "name": "ipython",
    "version": 3
   },
   "file_extension": ".py",
   "mimetype": "text/x-python",
   "name": "python",
   "nbconvert_exporter": "python",
   "pygments_lexer": "ipython3",
   "version": "3.12.7"
  }
 },
 "nbformat": 4,
 "nbformat_minor": 2
}
