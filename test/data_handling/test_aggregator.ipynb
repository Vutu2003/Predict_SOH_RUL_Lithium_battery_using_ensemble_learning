{
 "cells": [
  {
   "cell_type": "code",
   "execution_count": 1,
   "metadata": {},
   "outputs": [],
   "source": [
    "import sys\n",
    "\n",
    "sys.path.append('../../src/data_handling')"
   ]
  },
  {
   "cell_type": "code",
   "execution_count": 2,
   "metadata": {},
   "outputs": [
    {
     "name": "stdout",
     "output_type": "stream",
     "text": [
      "\n",
      "Initializing Data Aggregator for: ['B0005', 'B0006', 'B0007', 'B0018']\n",
      "\n",
      "--- Starting Data Aggregation for Batteries: ['B0018', 'B0006', 'B0007', 'B0005'] ---\n"
     ]
    },
    {
     "name": "stderr",
     "output_type": "stream",
     "text": [
      "Aggregating Batteries:   0%|          | 0/4 [00:00<?, ?it/s]"
     ]
    },
    {
     "name": "stdout",
     "output_type": "stream",
     "text": [
      "\n",
      "--- Processing: B0018 ---\n",
      "--- Loading data for battery: B0018 ---\n",
      "  Successfully loaded: capacity_B0018.csv\n",
      "  Successfully loaded: charge_B0018.csv\n",
      "  Successfully loaded: discharge_B0018.csv\n",
      "--- Data loading process completed for B0018 ---\n",
      "  Ensuring numeric types for B0018...\n",
      "--- Starting Feature Engineering process for B0018 ---\n",
      "  Calculating SOH/RUL for B0018...\n",
      "    Note: Battery B0018 did not reach EoL threshold (1.30 Ah). Using 133 for RUL.\n",
      "  Engineering discharge features for B0018...\n"
     ]
    },
    {
     "name": "stderr",
     "output_type": "stream",
     "text": []
    },
    {
     "name": "stdout",
     "output_type": "stream",
     "text": [
      "  Engineering charge features for B0018...\n"
     ]
    },
    {
     "name": "stderr",
     "output_type": "stream",
     "text": [
      "d:\\ĐỒ ÁN TỐT NGHIỆP DEMO1\\ĐỒ ÁN TỐT NGHIỆP demo1\\source\\battery_soh_rul_estimation\\test\\data_handling\\../../src/data_handling\\feature_engineer.py:229: FutureWarning: DataFrame.fillna with 'method' is deprecated and will raise in a future version. Use obj.ffill() or obj.bfill() instead.\n",
      "  df_filled = df.fillna(method='bfill').fillna(method='ffill')\n",
      "Aggregating Batteries:  25%|██▌       | 1/4 [00:00<00:01,  2.08it/s]"
     ]
    },
    {
     "name": "stdout",
     "output_type": "stream",
     "text": [
      "  Merging features for B0018...\n",
      "  Handling NaNs for B0018...\n",
      "--- Feature Engineering process finished for B0018 ---\n",
      "  Successfully processed B0018. Shape: (132, 13)\n",
      "\n",
      "--- Processing: B0006 ---\n",
      "--- Loading data for battery: B0006 ---\n",
      "  Successfully loaded: capacity_B0006.csv\n",
      "  Successfully loaded: charge_B0006.csv\n",
      "  Successfully loaded: discharge_B0006.csv\n",
      "--- Data loading process completed for B0006 ---\n",
      "  Ensuring numeric types for B0006...\n",
      "--- Starting Feature Engineering process for B0006 ---\n",
      "  Calculating SOH/RUL for B0006...\n",
      "  Engineering discharge features for B0006...\n"
     ]
    },
    {
     "name": "stderr",
     "output_type": "stream",
     "text": []
    },
    {
     "name": "stdout",
     "output_type": "stream",
     "text": [
      "  Engineering charge features for B0006...\n"
     ]
    },
    {
     "name": "stderr",
     "output_type": "stream",
     "text": [
      "d:\\ĐỒ ÁN TỐT NGHIỆP DEMO1\\ĐỒ ÁN TỐT NGHIỆP demo1\\source\\battery_soh_rul_estimation\\test\\data_handling\\../../src/data_handling\\feature_engineer.py:229: FutureWarning: DataFrame.fillna with 'method' is deprecated and will raise in a future version. Use obj.ffill() or obj.bfill() instead.\n",
      "  df_filled = df.fillna(method='bfill').fillna(method='ffill')\n",
      "Aggregating Batteries:  50%|█████     | 2/4 [00:01<00:01,  1.64it/s]"
     ]
    },
    {
     "name": "stdout",
     "output_type": "stream",
     "text": [
      "  Merging features for B0006...\n",
      "  Handling NaNs for B0006...\n",
      "--- Feature Engineering process finished for B0006 ---\n",
      "  Successfully processed B0006. Shape: (168, 13)\n",
      "\n",
      "--- Processing: B0007 ---\n",
      "--- Loading data for battery: B0007 ---\n",
      "  Successfully loaded: capacity_B0007.csv\n",
      "  Successfully loaded: charge_B0007.csv\n",
      "  Successfully loaded: discharge_B0007.csv\n",
      "--- Data loading process completed for B0007 ---\n",
      "  Ensuring numeric types for B0007...\n",
      "--- Starting Feature Engineering process for B0007 ---\n",
      "  Calculating SOH/RUL for B0007...\n",
      "    Note: Battery B0007 did not reach EoL threshold (1.32 Ah). Using 169 for RUL.\n",
      "  Engineering discharge features for B0007...\n"
     ]
    },
    {
     "name": "stderr",
     "output_type": "stream",
     "text": []
    },
    {
     "name": "stdout",
     "output_type": "stream",
     "text": [
      "  Engineering charge features for B0007...\n"
     ]
    },
    {
     "name": "stderr",
     "output_type": "stream",
     "text": [
      "d:\\ĐỒ ÁN TỐT NGHIỆP DEMO1\\ĐỒ ÁN TỐT NGHIỆP demo1\\source\\battery_soh_rul_estimation\\test\\data_handling\\../../src/data_handling\\feature_engineer.py:229: FutureWarning: DataFrame.fillna with 'method' is deprecated and will raise in a future version. Use obj.ffill() or obj.bfill() instead.\n",
      "  df_filled = df.fillna(method='bfill').fillna(method='ffill')\n",
      "Aggregating Batteries:  75%|███████▌  | 3/4 [00:01<00:00,  1.53it/s]"
     ]
    },
    {
     "name": "stdout",
     "output_type": "stream",
     "text": [
      "  Merging features for B0007...\n",
      "  Handling NaNs for B0007...\n",
      "--- Feature Engineering process finished for B0007 ---\n",
      "  Successfully processed B0007. Shape: (168, 13)\n",
      "\n",
      "--- Processing: B0005 ---\n",
      "--- Loading data for battery: B0005 ---\n",
      "  Successfully loaded: capacity_B0005.csv\n",
      "  Successfully loaded: charge_B0005.csv\n",
      "  Successfully loaded: discharge_B0005.csv\n",
      "--- Data loading process completed for B0005 ---\n",
      "  Ensuring numeric types for B0005...\n",
      "--- Starting Feature Engineering process for B0005 ---\n",
      "  Calculating SOH/RUL for B0005...\n",
      "  Engineering discharge features for B0005...\n"
     ]
    },
    {
     "name": "stderr",
     "output_type": "stream",
     "text": []
    },
    {
     "name": "stdout",
     "output_type": "stream",
     "text": [
      "  Engineering charge features for B0005...\n"
     ]
    },
    {
     "name": "stderr",
     "output_type": "stream",
     "text": [
      "d:\\ĐỒ ÁN TỐT NGHIỆP DEMO1\\ĐỒ ÁN TỐT NGHIỆP demo1\\source\\battery_soh_rul_estimation\\test\\data_handling\\../../src/data_handling\\feature_engineer.py:229: FutureWarning: DataFrame.fillna with 'method' is deprecated and will raise in a future version. Use obj.ffill() or obj.bfill() instead.\n",
      "  df_filled = df.fillna(method='bfill').fillna(method='ffill')\n",
      "Aggregating Batteries: 100%|██████████| 4/4 [00:02<00:00,  1.55it/s]"
     ]
    },
    {
     "name": "stdout",
     "output_type": "stream",
     "text": [
      "  Merging features for B0005...\n",
      "  Handling NaNs for B0005...\n",
      "--- Feature Engineering process finished for B0005 ---\n",
      "  Successfully processed B0005. Shape: (168, 13)\n",
      "\n",
      "--- Concatenating data from all processed batteries ---\n",
      "Combined DataFrame shape: (636, 13)\n",
      "Unique batteries in combined data: ['B0018' 'B0006' 'B0007' 'B0005']\n",
      "\n",
      "--- Performing final NaN check and fill on combined data ---\n",
      "No NaNs found in the combined data after individual processing.\n",
      "--- Data Aggregation Finished ---\n",
      "\n",
      "--- Final Combined Actual Data Info ---\n",
      "<class 'pandas.core.frame.DataFrame'>\n",
      "RangeIndex: 636 entries, 0 to 635\n",
      "Data columns (total 13 columns):\n",
      " #   Column              Non-Null Count  Dtype  \n",
      "---  ------              --------------  -----  \n",
      " 0   cycle               636 non-null    int64  \n",
      " 1   capacity            636 non-null    float64\n",
      " 2   SOH                 636 non-null    float64\n",
      " 3   RUL                 636 non-null    int64  \n",
      " 4   Discharge_V_median  636 non-null    float64\n",
      " 5   Discharge_V_skew    636 non-null    float64\n",
      " 6   Discharge_T_delta   636 non-null    float64\n",
      " 7   Discharge_T_std     636 non-null    float64\n",
      " 8   Charge_T_std        636 non-null    float64\n",
      " 9   Time_CC_phase       636 non-null    float64\n",
      " 10  Time_CV_phase       636 non-null    float64\n",
      " 11  CV_I_end            636 non-null    float64\n",
      " 12  battery_id          636 non-null    object \n",
      "dtypes: float64(10), int64(2), object(1)\n",
      "memory usage: 64.7+ KB\n",
      "None\n",
      "\n",
      "--- Final Combined Actual Data Head ---\n",
      "   cycle  capacity         SOH  RUL  Discharge_V_median  Discharge_V_skew  \\\n",
      "0      1  1.855005  100.000000  132            3.526933         -0.947780   \n",
      "1      2  1.843196   99.363398  131            3.533510         -1.043131   \n",
      "2      3  1.839602   99.169669  130            3.535711         -1.050840   \n",
      "3      4  1.830674   98.688364  129            3.535111         -1.013628   \n",
      "4      5  1.832700   98.797614  128            3.540578         -1.038804   \n",
      "\n",
      "   Discharge_T_delta  Discharge_T_std  Charge_T_std  Time_CC_phase  \\\n",
      "0          14.282283         3.393883      0.820400        296.578   \n",
      "1          13.835093         3.279763      1.268922       2796.594   \n",
      "2          13.784999         3.267322      1.312674       2806.203   \n",
      "3          13.834936         3.290899      1.318874       2788.610   \n",
      "4          13.796394         3.303798      1.203835       2750.344   \n",
      "\n",
      "   Time_CV_phase  CV_I_end battery_id  \n",
      "0       7411.750  0.004135      B0018  \n",
      "1       7523.328 -0.001571      B0018  \n",
      "2       7533.282  0.001311      B0018  \n",
      "3       7554.031  0.001190      B0018  \n",
      "4       7581.500 -0.001253      B0018  \n",
      "\n",
      "--- Final Combined Actual Data Tail ---\n",
      "     cycle  capacity        SOH  RUL  Discharge_V_median  Discharge_V_skew  \\\n",
      "631    164  1.293464  69.672630    0            3.475353         -0.336494   \n",
      "632    165  1.288003  69.378514    0            3.477031         -0.311294   \n",
      "633    166  1.287453  69.348842    0            3.475453         -0.329365   \n",
      "634    167  1.309015  70.510328    0            3.476832         -0.337933   \n",
      "635    168  1.325079  71.375616    0            3.479558         -0.331533   \n",
      "\n",
      "     Discharge_T_delta  Discharge_T_std  Charge_T_std  Time_CC_phase  \\\n",
      "631          17.247551         4.447258      1.728245       1295.890   \n",
      "632          17.182077         4.426707      1.723151       1290.156   \n",
      "633          17.214629         4.440210      1.716343       1277.516   \n",
      "634          16.125072         4.160181      1.715402       1272.453   \n",
      "635          15.957711         4.015890      1.720882       1270.297   \n",
      "\n",
      "     Time_CV_phase  CV_I_end battery_id  \n",
      "631       8741.984  0.001738      B0005  \n",
      "632       8475.062  0.006869      B0005  \n",
      "633       8645.094 -0.004654      B0005  \n",
      "634       8912.406 -0.003144      B0005  \n",
      "635       8237.391 -0.001513      B0005  \n",
      "\n",
      "Unique Battery IDs in final data: ['B0018' 'B0006' 'B0007' 'B0005']\n",
      "Total rows in final data: 636\n",
      "NaN check final data: 0 NaNs\n"
     ]
    },
    {
     "name": "stderr",
     "output_type": "stream",
     "text": [
      "\n"
     ]
    }
   ],
   "source": [
    "# --- Sử dụng DataAggregator với các ID pin thực tế ---\n",
    "from aggregator import DataAggregator\n",
    "\n",
    "if __name__ == '__main__':\n",
    "    # <<< !!! THAY ĐỔI ĐƯỜNG DẪN NÀY !!! >>>\n",
    "    ACTUAL_DATA_DIR = \"../../dataset/\" # Đường dẫn đến thư mục chứa B0005, B0006,...\n",
    "\n",
    "    # Danh sách các pin cần xử lý\n",
    "    actual_battery_ids = ['B0005', 'B0006', 'B0007', 'B0018']\n",
    "\n",
    "    # Cấu hình FE (tùy chọn, có thể để trống nếu dùng default)\n",
    "    fe_configuration = {\n",
    "        #'eol_threshold_percentage': 0.75, # Ví dụ: thay đổi ngưỡng EoL\n",
    "        # Thêm các config khác nếu hàm FE của bạn hỗ trợ\n",
    "    }\n",
    "\n",
    "    # 1. Khởi tạo Aggregator\n",
    "    print(f\"\\nInitializing Data Aggregator for: {actual_battery_ids}\")\n",
    "    aggregator_actual = DataAggregator(\n",
    "        battery_ids=actual_battery_ids,\n",
    "        data_dir=ACTUAL_DATA_DIR,\n",
    "        fe_config=fe_configuration\n",
    "    )\n",
    "\n",
    "    # 2. Chạy quá trình tổng hợp\n",
    "    # force_rerun=True sẽ chạy lại FE ngay cả khi đã chạy trước đó\n",
    "    aggregator_actual.aggregate(force_rerun=True)\n",
    "\n",
    "    # 3. Lấy và kiểm tra dữ liệu kết hợp\n",
    "    final_actual_combined_data = aggregator_actual.get_combined_data()\n",
    "\n",
    "    if final_actual_combined_data is not None:\n",
    "        print(\"\\n--- Final Combined Actual Data Info ---\")\n",
    "        print(final_actual_combined_data.info()) # Kiểm tra kiểu dữ liệu, non-null\n",
    "        print(\"\\n--- Final Combined Actual Data Head ---\")\n",
    "        print(final_actual_combined_data.head())\n",
    "        print(\"\\n--- Final Combined Actual Data Tail ---\")\n",
    "        print(final_actual_combined_data.tail())\n",
    "        print(f\"\\nUnique Battery IDs in final data: {final_actual_combined_data['battery_id'].unique()}\")\n",
    "        print(f\"Total rows in final data: {len(final_actual_combined_data)}\")\n",
    "        print(f\"NaN check final data: {final_actual_combined_data.isnull().sum().sum()} NaNs\") # Kiểm tra NaN lần cuối\n",
    "\n",
    "        # Từ đây, final_actual_combined_data đã sẵn sàng cho các lớp tiếp theo\n",
    "        # (FeatureAnalyzer, FeatureSelector, CrossValidator...)\n",
    "    else:\n",
    "        print(\"\\nData aggregation failed for the actual battery datasets.\")"
   ]
  }
 ],
 "metadata": {
  "kernelspec": {
   "display_name": "base",
   "language": "python",
   "name": "python3"
  },
  "language_info": {
   "codemirror_mode": {
    "name": "ipython",
    "version": 3
   },
   "file_extension": ".py",
   "mimetype": "text/x-python",
   "name": "python",
   "nbconvert_exporter": "python",
   "pygments_lexer": "ipython3",
   "version": "3.12.7"
  }
 },
 "nbformat": 4,
 "nbformat_minor": 2
}
